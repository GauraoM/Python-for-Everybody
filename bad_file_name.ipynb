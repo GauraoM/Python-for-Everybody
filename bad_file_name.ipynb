{
  "nbformat": 4,
  "nbformat_minor": 0,
  "metadata": {
    "colab": {
      "name": "bad file name.ipynb",
      "provenance": [],
      "authorship_tag": "ABX9TyMgoXsZZl7M0qi9y+IfO54Q",
      "include_colab_link": true
    },
    "kernelspec": {
      "name": "python3",
      "display_name": "Python 3"
    },
    "language_info": {
      "name": "python"
    }
  },
  "cells": [
    {
      "cell_type": "markdown",
      "metadata": {
        "id": "view-in-github",
        "colab_type": "text"
      },
      "source": [
        "<a href=\"https://colab.research.google.com/github/GauraoM/Python-for-Everybody/blob/main/bad_file_name.ipynb\" target=\"_parent\"><img src=\"https://colab.research.google.com/assets/colab-badge.svg\" alt=\"Open In Colab\"/></a>"
      ]
    },
    {
      "cell_type": "code",
      "execution_count": 1,
      "metadata": {
        "colab": {
          "base_uri": "https://localhost:8080/"
        },
        "id": "HY4rsehezjYX",
        "outputId": "4f775413-d84a-4d16-e74b-ecd2d72a030d"
      },
      "outputs": [
        {
          "output_type": "stream",
          "name": "stdout",
          "text": [
            "Enter the file nametext\n",
            "File doesnot exist: text\n",
            "There are 0 from lines in text\n"
          ]
        }
      ],
      "source": [
        "# Input file name\n",
        "file_name = input(\"Enter the file name\")\n",
        "\n",
        "# Try to open the file if exist else go to except print the messege and quit \n",
        "try:\n",
        "  file_name = open('filename')\n",
        "except:\n",
        "  print('File doesnot exist:',file_name)\n",
        "  quit()  \n",
        "\n",
        "# Count the line startswith 'From'\n",
        "count = 0\n",
        "for line in file_name:\n",
        "  if line.startswith('From'):\n",
        "    count += 1 \n",
        "print('There are',count, 'from lines in', file_name)"
      ]
    }
  ]
}