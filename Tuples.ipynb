{
  "nbformat": 4,
  "nbformat_minor": 0,
  "metadata": {
    "colab": {
      "name": "Tuples.ipynb",
      "provenance": [],
      "authorship_tag": "ABX9TyNNNwSQhsSmJAWyejHOSYAf",
      "include_colab_link": true
    },
    "kernelspec": {
      "name": "python3",
      "display_name": "Python 3"
    },
    "language_info": {
      "name": "python"
    }
  },
  "cells": [
    {
      "cell_type": "markdown",
      "metadata": {
        "id": "view-in-github",
        "colab_type": "text"
      },
      "source": [
        "<a href=\"https://colab.research.google.com/github/GauraoM/Python-for-Everybody/blob/main/Tuples.ipynb\" target=\"_parent\"><img src=\"https://colab.research.google.com/assets/colab-badge.svg\" alt=\"Open In Colab\"/></a>"
      ]
    },
    {
      "cell_type": "code",
      "execution_count": 4,
      "metadata": {
        "colab": {
          "base_uri": "https://localhost:8080/"
        },
        "id": "zo3v2Mz6Gomd",
        "outputId": "f4d44046-7403-41e6-b762-abfbb990bfa5"
      },
      "outputs": [
        {
          "output_type": "stream",
          "name": "stdout",
          "text": [
            "dict_items([('a', 10), ('b', 1), ('c', 23)])\n",
            "[(23, 'c'), (10, 'a'), (1, 'b')]\n"
          ]
        }
      ],
      "source": [
        "# Sorting the dictionary by sorting a list of tuples\n",
        "d = {'a':10, 'b':1, 'c':23}\n",
        "\n",
        "print(d.items())\n",
        "\n",
        "listt = []\n",
        "for k,v in d.items():\n",
        "  new = (v,k)\n",
        "  listt.append(new)\n",
        "\n",
        "temp = sorted(listt, reverse = True)\n",
        "print(temp)"
      ]
    }
  ]
}