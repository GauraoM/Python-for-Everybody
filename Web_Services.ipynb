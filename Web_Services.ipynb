{
  "nbformat": 4,
  "nbformat_minor": 0,
  "metadata": {
    "colab": {
      "name": "Web Services.ipynb",
      "provenance": [],
      "authorship_tag": "ABX9TyPMZ393PNdxRK7epgSmz435",
      "include_colab_link": true
    },
    "kernelspec": {
      "name": "python3",
      "display_name": "Python 3"
    },
    "language_info": {
      "name": "python"
    }
  },
  "cells": [
    {
      "cell_type": "markdown",
      "metadata": {
        "id": "view-in-github",
        "colab_type": "text"
      },
      "source": [
        "<a href=\"https://colab.research.google.com/github/GauraoM/Python-for-Everybody/blob/main/Web_Services.ipynb\" target=\"_parent\"><img src=\"https://colab.research.google.com/assets/colab-badge.svg\" alt=\"Open In Colab\"/></a>"
      ]
    },
    {
      "cell_type": "markdown",
      "source": [
        "#### XML"
      ],
      "metadata": {
        "id": "1KIEBM2K_Bys"
      }
    },
    {
      "cell_type": "code",
      "execution_count": null,
      "metadata": {
        "colab": {
          "base_uri": "https://localhost:8080/"
        },
        "id": "GitZFGp39Mvq",
        "outputId": "a6fd3a48-069e-4980-db19-f2c986ff950e"
      },
      "outputs": [
        {
          "output_type": "stream",
          "name": "stdout",
          "text": [
            "To: Tove\n",
            "From: Jani\n",
            "Body: Don't forget me this weekend!\n"
          ]
        }
      ],
      "source": [
        "import xml.etree.ElementTree as ET\n",
        "\n",
        "data = '''\n",
        "<note>\n",
        "  <date>2015-09-01</date>\n",
        "  <hour>08:30</hour>\n",
        "  <to>Tove</to>\n",
        "  <from>Jani</from>\n",
        "  <body>Don't forget me this weekend!</body>\n",
        "</note>\n",
        "'''\n",
        "\n",
        "tree = ET.fromstring(data)\n",
        "print('To:',tree.find('to').text)\n",
        "print('From:',tree.find('from').text)\n",
        "print('Body:',tree.find('body').text)"
      ]
    },
    {
      "cell_type": "markdown",
      "source": [
        "#### JSON\n",
        "##### JSON is a syntax for storing and exchanging the data. Data is prsented in the form of list of dictionaries"
      ],
      "metadata": {
        "id": "T_6tCz39GsHJ"
      }
    },
    {
      "cell_type": "code",
      "source": [
        "import json\n",
        "\n",
        "data = '''{\n",
        "      \"name\": \"Gulshan\",\n",
        "      \"phone\": {\"type\": \"intl\", \"number\": \"+2 235 487 5687\"},\n",
        "      \"email\":{\"hide\": \"yes\"}\n",
        "      }'''\n",
        "\n",
        "info = json.loads(data)\n",
        "print(\"Name\", info['name'])\n",
        "print(\"Phone\", info['phone']['number'])    "
      ],
      "metadata": {
        "colab": {
          "base_uri": "https://localhost:8080/"
        },
        "id": "FZiy1YXgGnZJ",
        "outputId": "524663c8-80b9-4feb-808c-5c824c85a3c9"
      },
      "execution_count": null,
      "outputs": [
        {
          "output_type": "stream",
          "name": "stdout",
          "text": [
            "Name Gulshan\n",
            "Phone +2 235 487 5687\n"
          ]
        }
      ]
    },
    {
      "cell_type": "code",
      "source": [
        "data1 = '''[ \n",
        "      {\n",
        "      \"name\": \"Gulshan\",\n",
        "      \"country code\": \"1\",\n",
        "      \"id\": \"1\"\n",
        "      },\n",
        "      {\n",
        "        \"name\": \"shaun\",\n",
        "      \"country code\": \"2\",\n",
        "      \"id\": \"2\"\n",
        "      }\n",
        "    ]'''\n",
        "\n",
        "info = json.loads(data1)\n",
        "print(\"User Count:\", len(info))\n",
        "for i in info:\n",
        "  print(\"Name\", i['name'])\n",
        "  print(\"Code\", i['country code'])\n",
        "  print(\"ID\", i['id'])"
      ],
      "metadata": {
        "colab": {
          "base_uri": "https://localhost:8080/"
        },
        "id": "4mckpGPvLGr2",
        "outputId": "362cbe53-3930-482f-c8d6-efae07b1e70b"
      },
      "execution_count": null,
      "outputs": [
        {
          "output_type": "stream",
          "name": "stdout",
          "text": [
            "User Count: 2\n",
            "Name Gulshan\n",
            "Code 1\n",
            "ID 1\n",
            "Name shaun\n",
            "Code 2\n",
            "ID 2\n"
          ]
        }
      ]
    }
  ]
}