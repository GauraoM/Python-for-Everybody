{
  "nbformat": 4,
  "nbformat_minor": 0,
  "metadata": {
    "colab": {
      "name": "Dictionary.ipynb",
      "provenance": [],
      "authorship_tag": "ABX9TyMG/IIrTwuuL6Q/5AhGT/lr",
      "include_colab_link": true
    },
    "kernelspec": {
      "name": "python3",
      "display_name": "Python 3"
    },
    "language_info": {
      "name": "python"
    }
  },
  "cells": [
    {
      "cell_type": "markdown",
      "metadata": {
        "id": "view-in-github",
        "colab_type": "text"
      },
      "source": [
        "<a href=\"https://colab.research.google.com/github/GauraoM/Python-for-Everybody/blob/main/Dictionary.ipynb\" target=\"_parent\"><img src=\"https://colab.research.google.com/assets/colab-badge.svg\" alt=\"Open In Colab\"/></a>"
      ]
    },
    {
      "cell_type": "markdown",
      "source": [
        "#### Dictionaries are like lists except they have key-value pair "
      ],
      "metadata": {
        "id": "i7i_4OwdeqI4"
      }
    },
    {
      "cell_type": "code",
      "source": [
        "# Creating an empty dictionary and adding the values\n",
        "dic = dict() \n",
        "\n",
        "dic['pineapple'] = 100\n",
        "dic['Grapes'] = 80\n",
        "print(dic)\n",
        "\n",
        "# Changing grapes value\n",
        "dic['Grapes'] = 90\n",
        "print(dic)"
      ],
      "metadata": {
        "colab": {
          "base_uri": "https://localhost:8080/"
        },
        "id": "2cu8jaYHe8UJ",
        "outputId": "5c2bf526-85c8-4f11-a986-15dbd8473732"
      },
      "execution_count": 7,
      "outputs": [
        {
          "output_type": "stream",
          "name": "stdout",
          "text": [
            "{'pineapple': 100, 'Grapes': 80}\n",
            "{'pineapple': 100, 'Grapes': 90}\n"
          ]
        }
      ]
    },
    {
      "cell_type": "code",
      "source": [
        "# Creating histogram of values\n",
        "count = {}\n",
        "names = ['csd','cwen','zquin','cwen','csd']\n",
        "for name in names:\n",
        "  if name not in count:\n",
        "    count[name] = 1\n",
        "  else:\n",
        "    count[name] = count[name] + 1  \n",
        "print(count)     "
      ],
      "metadata": {
        "colab": {
          "base_uri": "https://localhost:8080/"
        },
        "id": "LWzM19C9mmgl",
        "outputId": "21a0957d-ffef-4a8c-b689-55be75dfb81c"
      },
      "execution_count": 9,
      "outputs": [
        {
          "output_type": "stream",
          "name": "stdout",
          "text": [
            "{'csd': 2, 'cwen': 2, 'zquin': 1}\n"
          ]
        }
      ]
    },
    {
      "cell_type": "code",
      "source": [
        "# iterating through key value pair\n",
        "name = {'Grape':90, 'Pineapple':100, 'Strawberry':100}\n",
        "for key, value in name.items():\n",
        "  print(key, value)"
      ],
      "metadata": {
        "colab": {
          "base_uri": "https://localhost:8080/"
        },
        "id": "LQEyNSGRtPyL",
        "outputId": "371406d1-2606-4752-8498-dff32c3a4bba"
      },
      "execution_count": 10,
      "outputs": [
        {
          "output_type": "stream",
          "name": "stdout",
          "text": [
            "Grape 90\n",
            "Pineapple 100\n",
            "Strawberry 100\n"
          ]
        }
      ]
    },
    {
      "cell_type": "code",
      "source": [
        "fname = input('Enter the text file: ')\n",
        "texts = open(fname)\n",
        "\n",
        "w = {}\n",
        "for line in texts:\n",
        "  line = line.rstrip()\n",
        "  line = line.split()\n",
        "  for word in line:\n",
        "    w[word] = w.get(word,0) + 1 \n",
        "print(w)    "
      ],
      "metadata": {
        "colab": {
          "base_uri": "https://localhost:8080/"
        },
        "id": "lWfYPBE87yjY",
        "outputId": "f5b74976-78eb-4e3c-efb2-478e32780ad6"
      },
      "execution_count": 14,
      "outputs": [
        {
          "output_type": "stream",
          "name": "stdout",
          "text": [
            "Enter the text file: /content/northern giraffe.txt\n",
            "{'The': 2, 'northern': 3, 'giraffe': 2, '(Giraffa': 1, 'camelopardalis)': 1, 'is': 1, 'native': 1, 'to': 1, 'North': 1, 'Africa.': 1, 'has': 1, 'two': 1, 'horn-like': 1, 'protuberances': 1, 'known': 1, 'as': 1, 'ossicones': 1, 'on': 1, 'their': 1, 'foreheads.': 1, 'These': 1, 'are': 1, 'longer': 1, 'and': 2, 'larger': 1, 'than': 1, 'those': 1, 'of': 2, 'the': 4, 'southern': 1, 'giraffes,': 1, 'although': 1, 'bull': 1, 'giraffes': 1, 'have': 1, 'a': 1, 'third': 1, 'cylindrical': 1, 'ossicone': 1, 'in': 2, 'center': 1, 'head': 1, 'just': 1, 'above': 1, 'eyes': 1, 'which': 1, 'range': 1, 'length': 1, 'between': 1, '3': 1, 'inches': 2, '(8': 1, 'cm)': 1, '5': 1, '(10': 1, 'cm).': 1}\n"
          ]
        }
      ]
    },
    {
      "cell_type": "code",
      "source": [
        "# Find the largest frequency word\n",
        "largest = -1\n",
        "theword = None\n",
        "for k,v in w.items():\n",
        "  if v > largest:\n",
        "    largest = v\n",
        "    theword = k\n",
        "print(\"Largest Word with the frequency: \",theword,largest)    "
      ],
      "metadata": {
        "colab": {
          "base_uri": "https://localhost:8080/"
        },
        "id": "AD9MNwTMDrm9",
        "outputId": "c4a6c1b3-f785-4783-df6c-108bd409056d"
      },
      "execution_count": 19,
      "outputs": [
        {
          "output_type": "stream",
          "name": "stdout",
          "text": [
            "Largest Word with the frequency:  the 4\n"
          ]
        }
      ]
    }
  ]
}